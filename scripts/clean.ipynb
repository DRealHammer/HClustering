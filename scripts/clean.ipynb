{
 "cells": [
  {
   "cell_type": "code",
   "execution_count": 5,
   "metadata": {},
   "outputs": [
    {
     "name": "stdout",
     "output_type": "stream",
     "text": [
      "{'Case_Based': 0, 'Rule_Learning': 1, 'Probabilistic_Methods': 2, 'Theory': 3, 'Neural_Networks': 4, 'Reinforcement_Learning': 5, 'Genetic_Algorithms': 6}\n"
     ]
    },
    {
     "ename": "TypeError",
     "evalue": "can only concatenate str (not \"int\") to str",
     "output_type": "error",
     "traceback": [
      "\u001b[0;31m---------------------------------------------------------------------------\u001b[0m",
      "\u001b[0;31mTypeError\u001b[0m                                 Traceback (most recent call last)",
      "\u001b[0;32m/tmp/ipykernel_41133/3324146270.py\u001b[0m in \u001b[0;36m<module>\u001b[0;34m\u001b[0m\n\u001b[1;32m     14\u001b[0m                 \u001b[0;32mfor\u001b[0m \u001b[0mline\u001b[0m \u001b[0;32min\u001b[0m \u001b[0mfile\u001b[0m\u001b[0;34m:\u001b[0m\u001b[0;34m\u001b[0m\u001b[0;34m\u001b[0m\u001b[0m\n\u001b[1;32m     15\u001b[0m                         \u001b[0mline\u001b[0m \u001b[0;34m=\u001b[0m \u001b[0mline\u001b[0m\u001b[0;34m.\u001b[0m\u001b[0msplit\u001b[0m\u001b[0;34m(\u001b[0m\u001b[0;34m'\\t'\u001b[0m\u001b[0;34m)\u001b[0m\u001b[0;34m\u001b[0m\u001b[0;34m\u001b[0m\u001b[0m\n\u001b[0;32m---> 16\u001b[0;31m                         \u001b[0moutfile\u001b[0m\u001b[0;34m.\u001b[0m\u001b[0mwrite\u001b[0m\u001b[0;34m(\u001b[0m\u001b[0mline\u001b[0m\u001b[0;34m[\u001b[0m\u001b[0;36m0\u001b[0m\u001b[0;34m]\u001b[0m \u001b[0;34m+\u001b[0m \u001b[0;34m'\\t'\u001b[0m \u001b[0;34m+\u001b[0m \u001b[0munique_labels\u001b[0m\u001b[0;34m[\u001b[0m\u001b[0mline\u001b[0m\u001b[0;34m[\u001b[0m\u001b[0;36m1\u001b[0m\u001b[0;34m]\u001b[0m\u001b[0;34m[\u001b[0m\u001b[0;34m:\u001b[0m\u001b[0;34m-\u001b[0m\u001b[0;36m1\u001b[0m\u001b[0;34m]\u001b[0m\u001b[0;34m]\u001b[0m\u001b[0;34m)\u001b[0m\u001b[0;34m\u001b[0m\u001b[0;34m\u001b[0m\u001b[0m\n\u001b[0m",
      "\u001b[0;31mTypeError\u001b[0m: can only concatenate str (not \"int\") to str"
     ]
    }
   ],
   "source": [
    "labels = set()\n",
    "with open('cora.cluster') as file:\n",
    "\tfor line in file:\n",
    "\t\tline = line.split('\\t')\n",
    "\t\tlabels.add(line[1][:-1])\n",
    "\n",
    "unique_labels = dict()\n",
    "for i, label in enumerate(labels):\n",
    "\tunique_labels[label] = i\n",
    "\n",
    "print(unique_labels)\n",
    "with open('cora.cluster') as file:\n",
    "\twith open('cora.content-clean', 'w') as outfile:\n",
    "\t\tfor line in file:\n",
    "\t\t\tline = line.split('\\t')\n",
    "\t\t\toutfile.write(line[0] + '\\t' + str(unique_labels[line[1][:-1]]))\n"
   ]
  },
  {
   "cell_type": "code",
   "execution_count": 6,
   "metadata": {},
   "outputs": [],
   "source": [
    "translationTable = dict()\n",
    "currentNode = 1\n",
    "with open('cora.ungraph.txt') as file:\n",
    "\tfor line in file:\n",
    "\t\tline = line.split('\\t')\n",
    "\t\tstartNode = line[0]\n",
    "\t\ttargetNode = line[1][:-1]\n",
    "\n",
    "\t\tif not startNode in translationTable.keys():\n",
    "\t\t\ttranslationTable[startNode] = currentNode\n",
    "\t\t\tcurrentNode += 1\n",
    "\n",
    "\t\tif not targetNode in translationTable.keys():\n",
    "\t\t\ttranslationTable[targetNode] = currentNode\n",
    "\t\t\tcurrentNode += 1\n",
    "\n",
    "\n",
    "with open('cora.cluster') as file:\n",
    "\twith open('cora.cluster-new', 'w') as outfile:\n",
    "\t\tfor line in file:\n",
    "\t\t\tline = line.split('\\t')\n",
    "\n",
    "\t\t\toutfile.write(str(translationTable[line[0]]) + '\\t' + line[1])\n"
   ]
  }
 ],
 "metadata": {
  "interpreter": {
   "hash": "31f2aee4e71d21fbe5cf8b01ff0e069b9275f58929596ceb00d14d90e3e16cd6"
  },
  "kernelspec": {
   "display_name": "Python 3.8.10 64-bit",
   "language": "python",
   "name": "python3"
  },
  "language_info": {
   "codemirror_mode": {
    "name": "ipython",
    "version": 3
   },
   "file_extension": ".py",
   "mimetype": "text/x-python",
   "name": "python",
   "nbconvert_exporter": "python",
   "pygments_lexer": "ipython3",
   "version": "3.8.10"
  },
  "orig_nbformat": 4
 },
 "nbformat": 4,
 "nbformat_minor": 2
}
