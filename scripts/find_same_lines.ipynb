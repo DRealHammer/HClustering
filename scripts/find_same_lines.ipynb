{
 "cells": [
  {
   "cell_type": "code",
   "execution_count": 154,
   "metadata": {},
   "outputs": [],
   "source": [
    "import numpy as np\n",
    "import matplotlib.pyplot as plt"
   ]
  },
  {
   "cell_type": "code",
   "execution_count": 155,
   "metadata": {},
   "outputs": [],
   "source": [
    "y = []\n",
    "X = []\n",
    "\n",
    "with open('../data/cora.metis-data') as file:\n",
    "\ti = 0\n",
    "\tfor line in file:\n",
    "\t\ty.append(int(line[0]))\n",
    "\n",
    "\t\tentries = [float(entry[entry.find(':') + 1:]) for entry in line.split(' ')[1:]]\n",
    "\t\tX.append(entries)"
   ]
  },
  {
   "cell_type": "code",
   "execution_count": 156,
   "metadata": {},
   "outputs": [
    {
     "name": "stdout",
     "output_type": "stream",
     "text": [
      "(5278,)\n"
     ]
    }
   ],
   "source": [
    "\n",
    "y = np.array(y)\n",
    "X = np.array(X)\n",
    "\n",
    "print(y.shape)"
   ]
  },
  {
   "cell_type": "code",
   "execution_count": 157,
   "metadata": {},
   "outputs": [],
   "source": [
    "X_new = [tuple(row) for row in X]\n",
    "\n",
    "X_unique = np.unique(X_new, axis=0)\n",
    "y_unique = np.zeros(X_unique.shape[0])\n",
    "for i, row in enumerate(X_unique):\n",
    "\tsame_row_indices = np.where(np.all(X == row, axis=1))\n",
    "\n",
    "\ty_unique[i] = np.mean(y[same_row_indices])\n",
    "\n",
    "to_keep = np.logical_or(y_unique < 0.1, y_unique > 0.8)\n",
    "\n",
    "y_unique = y_unique[to_keep]\n",
    "X_unique = X_unique[to_keep]\n"
   ]
  },
  {
   "cell_type": "code",
   "execution_count": 158,
   "metadata": {},
   "outputs": [
    {
     "name": "stdout",
     "output_type": "stream",
     "text": [
      "(3281, 13)\n",
      "(3281,)\n"
     ]
    }
   ],
   "source": [
    "print(X_unique.shape)\n",
    "print(y_unique.shape)"
   ]
  },
  {
   "cell_type": "code",
   "execution_count": 159,
   "metadata": {},
   "outputs": [],
   "source": [
    "with open('cora.metis-data-no-dup', 'w') as outfile:\n",
    "\tfor i in range(len(y_unique)):\n",
    "\t\toutfile.write(str(y_unique[i]) + ' ')\n",
    "\n",
    "\t\tfeats = ' '.join([f'{j}:{feat}' for j, feat in enumerate(X_unique[i])]) + '\\n'\n",
    "\t\toutfile.write(feats)\n"
   ]
  },
  {
   "cell_type": "code",
   "execution_count": null,
   "metadata": {},
   "outputs": [],
   "source": []
  }
 ],
 "metadata": {
  "interpreter": {
   "hash": "31f2aee4e71d21fbe5cf8b01ff0e069b9275f58929596ceb00d14d90e3e16cd6"
  },
  "kernelspec": {
   "display_name": "Python 3.8.10 64-bit",
   "language": "python",
   "name": "python3"
  },
  "language_info": {
   "codemirror_mode": {
    "name": "ipython",
    "version": 3
   },
   "file_extension": ".py",
   "mimetype": "text/x-python",
   "name": "python",
   "nbconvert_exporter": "python",
   "pygments_lexer": "ipython3",
   "version": "3.8.10"
  },
  "orig_nbformat": 4
 },
 "nbformat": 4,
 "nbformat_minor": 2
}
