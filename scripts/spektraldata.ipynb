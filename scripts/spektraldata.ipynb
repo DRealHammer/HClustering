{
 "cells": [
  {
   "cell_type": "code",
   "execution_count": 10,
   "metadata": {},
   "outputs": [],
   "source": [
    "import spektral\n",
    "import numpy as np"
   ]
  },
  {
   "cell_type": "code",
   "execution_count": 11,
   "metadata": {},
   "outputs": [],
   "source": [
    "def writeGraphFile(name, datafunction):\n",
    "\tdata = datafunction(name)\n",
    "\tgraph = data.read()\n",
    "\tgraph = graph[0]\n",
    "\n",
    "\tlabels = np.argmax(graph.y, axis=1)\n",
    "\tprint(f'label count: {np.bincount(labels)}')\n",
    "\n",
    "\twith open(f'{name}.metis', 'w') as outfile:\n",
    "\t\tedge_count = graph.n_edges\n",
    "\t\tedge_count -= np.sum(graph.a.diagonal())\n",
    "\t\toutfile.write(f'{graph.n_nodes} {edge_count//2}\\n')\n",
    "\t\tfor i, row in enumerate(graph.a):\n",
    "\t\t\tneighbors = row.nonzero()[1]\n",
    "\t\t\tneighbors = neighbors[neighbors != i]\n",
    "\t\t\tneighbors += 1\n",
    "\t\t\ttowrite = [str(entry) for entry in neighbors]\n",
    "\t\t\toutfile.write(' '.join(towrite))\n",
    "\t\t\toutfile.write('\\n')\n",
    "\t\t\n",
    "\twith open(f'{name}.cluster', 'w') as outfile:\n",
    "\t\tfor i, label in enumerate(labels):\n",
    "\t\t\toutfile.write(f'{i + 1} {label}\\n')\n"
   ]
  },
  {
   "cell_type": "code",
   "execution_count": 8,
   "metadata": {},
   "outputs": [
    {
     "name": "stderr",
     "output_type": "stream",
     "text": [
      "/home/daniel/.local/lib/python3.8/site-packages/scipy/sparse/_index.py:125: SparseEfficiencyWarning: Changing the sparsity structure of a csr_matrix is expensive. lil_matrix is more efficient.\n",
      "  self._set_arrayXarray(i, j, x)\n"
     ]
    },
    {
     "name": "stdout",
     "output_type": "stream",
     "text": [
      "label count: [351 217 418 818 426 298 180]\n",
      "label count: [264 590 668 701 596 508]\n",
      "label count: [4103 7739 7875]\n"
     ]
    }
   ],
   "source": [
    "writeGraphFile('cora', spektral.datasets.citation.Citation)\n",
    "writeGraphFile('citeseer', spektral.datasets.citation.Citation)\n",
    "writeGraphFile('pubmed', spektral.datasets.citation.Citation)"
   ]
  },
  {
   "cell_type": "code",
   "execution_count": 7,
   "metadata": {},
   "outputs": [
    {
     "name": "stdout",
     "output_type": "stream",
     "text": [
      "label count: [39144  5084  2978  1607   412     0     0  2127   335   979     0     0\n",
      "  1916     0     0     0     0   219    69     6   478     0     0   328\n",
      "   134   392     2     0   191     0     6     0   174     0     0   101\n",
      "     0     0     0     0     0     0     0     0    50     0     0     0\n",
      "     0     0     0     0     0     0     0     0     0     0     0     0\n",
      "     0     0     0     0     0     0     0   160    19     0     0     0\n",
      "     0     0     0     0     0     0     0     0     0     0     0     0\n",
      "     0     0     0     0     0     0     0     0     0     0     0     0\n",
      "     0     0     0     0     0     0     6     0     0     0     0     0\n",
      "     0     0     0     0     0     0     0     0    27]\n"
     ]
    }
   ],
   "source": [
    "writeGraphFile('ppi', spektral.datasets.graphsage.GraphSage)"
   ]
  },
  {
   "cell_type": "code",
   "execution_count": 12,
   "metadata": {},
   "outputs": [
    {
     "name": "stdout",
     "output_type": "stream",
     "text": [
      "Downloading reddit dataset.\n"
     ]
    },
    {
     "name": "stderr",
     "output_type": "stream",
     "text": [
      "100%|██████████████████████████████████████| 1.22G/1.22G [18:51<00:00, 1.16MB/s]\n"
     ]
    },
    {
     "name": "stdout",
     "output_type": "stream",
     "text": [
      "Processing dataset.\n",
      "label count: [13101  3550  3302 15181  2322  3597  3952  2138 11187  2246  4928  2964\n",
      "  1696  2731  4854 28272  1003  2639 13999 10308  1596  4066  8222 12146\n",
      "   328  1659  4239  5962  4673  5101  2846  4570  1575  4960  3429  4202\n",
      "  4180  4233 12797  3099  5112]\n"
     ]
    }
   ],
   "source": [
    "writeGraphFile('reddit', spektral.datasets.graphsage.GraphSage)"
   ]
  }
 ],
 "metadata": {
  "interpreter": {
   "hash": "31f2aee4e71d21fbe5cf8b01ff0e069b9275f58929596ceb00d14d90e3e16cd6"
  },
  "kernelspec": {
   "display_name": "Python 3.8.10 64-bit",
   "language": "python",
   "name": "python3"
  },
  "language_info": {
   "codemirror_mode": {
    "name": "ipython",
    "version": 3
   },
   "file_extension": ".py",
   "mimetype": "text/x-python",
   "name": "python",
   "nbconvert_exporter": "python",
   "pygments_lexer": "ipython3",
   "version": "3.8.10"
  },
  "orig_nbformat": 4
 },
 "nbformat": 4,
 "nbformat_minor": 2
}
